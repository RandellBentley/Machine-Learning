{
 "cells": [
  {
   "cell_type": "code",
   "execution_count": 1,
   "metadata": {
    "collapsed": true
   },
   "outputs": [],
   "source": [
    "\n",
    "import numpy as np\n",
    "import os\n",
    "\n",
    "\n",
    "%matplotlib inline\n",
    "import matplotlib\n",
    "import matplotlib.pyplot as plt\n",
    "plt.rcParams['axes.labelsize'] = 14\n",
    "plt.rcParams['xtick.labelsize'] = 12\n",
    "plt.rcParams['ytick.labelsize'] = 12\n",
    "\n",
    "\n"
   ]
  },
  {
   "cell_type": "code",
   "execution_count": 2,
   "metadata": {
    "collapsed": true
   },
   "outputs": [],
   "source": [
    "import os\n",
    "datapath = os.path.join(\"datasets\", \"ncaa\", \"\")"
   ]
  },
  {
   "cell_type": "code",
   "execution_count": 6,
   "metadata": {
    "collapsed": false
   },
   "outputs": [
    {
     "data": {
      "image/png": "[encoded data removed]",
      "text/plain": [
       "<matplotlib.figure.Figure at 0x10fabac18>"
      ]
     },
     "metadata": {},
     "output_type": "display_data"
    },
    {
     "name": "stdout",
     "output_type": "stream",
     "text": [
      "[ 66.95570651]\n",
      "[ 48.92314517]\n",
      "[ 56.54032561]\n"
     ]
    }
   ],
   "source": [
    "import matplotlib\n",
    "import matplotlib.pyplot as plt\n",
    "import numpy as np\n",
    "import pandas as pd\n",
    "import sklearn.linear_model\n",
    "\n",
    "record_stats = pd.read_csv(datapath + \"records_attendance.csv\")\n",
    "\n",
    "X = record_stats[\"Attendance\"]\n",
    "y = record_stats[\"Record\"]\n",
    "\n",
    "\n",
    "# Visualize the data\n",
    "record_stats.plot(kind='scatter', x=\"Attendance\", y='Record')\n",
    "plt.show()\n",
    "\n",
    "# Select a linear model\n",
    "model = sklearn.linear_model.LinearRegression()\n",
    "\n",
    "# Train the model\n",
    "model.fit(X.values.reshape(-1, 1), y)\n",
    "\n",
    "# Make a prediction for other team\n",
    "X_nebraska = [[15427]]  # Nebraska's average attendance\n",
    "print(model.predict(X_nebraska)) # outputs [[ 66.95570651]] actual record percentage was 68.75\n",
    "X_nevada = [[8422]]  # Nevada's average attendance\n",
    "print(model.predict(X_nevada)) # outputs [[ 48.92314517]] actual record percentage was 81.81\n",
    "X_illinois = [[11381]]  # Illinois's average attendance\n",
    "print(model.predict(X_illinois)) # outputs [[ 56.54032561]] actual record percentage was 43.75"
   ]
  },
  {
   "cell_type": "code",
   "execution_count": null,
   "metadata": {
    "collapsed": true
   },
   "outputs": [],
   "source": []
  }
 ],
 "metadata": {
  "kernelspec": {
   "display_name": "Python 3",
   "language": "python",
   "name": "python3"
  },
  "language_info": {
   "codemirror_mode": {
    "name": "ipython",
    "version": 3
   },
   "file_extension": ".py",
   "mimetype": "text/x-python",
   "name": "python",
   "nbconvert_exporter": "python",
   "pygments_lexer": "ipython3",
   "version": "3.6.4"
  }
 },
 "nbformat": 4,
 "nbformat_minor": 2
}
